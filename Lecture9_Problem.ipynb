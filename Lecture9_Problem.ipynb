{
 "cells": [
  {
   "cell_type": "markdown",
   "id": "b71f7385",
   "metadata": {},
   "source": [
    "# Multi-Layer Perceptron with CIFAR10 classification "
   ]
  },
  {
   "cell_type": "markdown",
   "id": "1705e140",
   "metadata": {},
   "source": [
    "## 1. Module Import"
   ]
  },
  {
   "cell_type": "code",
   "execution_count": 1,
   "id": "a0643ab9",
   "metadata": {},
   "outputs": [],
   "source": [
    "import numpy as np\n",
    "import matplotlib.pyplot as plt\n",
    "\n",
    "import torch\n",
    "from torchvision import datasets\n",
    "import torchvision.transforms as transforms\n",
    "\n",
    "import torch.optim as optim\n",
    "\n",
    "import ssl\n",
    "ssl._create_default_https_context = ssl._create_unverified_context"
   ]
  },
  {
   "cell_type": "markdown",
   "id": "615e50e2",
   "metadata": {},
   "source": [
    "## 2. 딥러닝 모델을 설계할 때 활용하는 장비 확인"
   ]
  },
  {
   "cell_type": "code",
   "execution_count": 2,
   "id": "063e666e",
   "metadata": {},
   "outputs": [
    {
     "name": "stdout",
     "output_type": "stream",
     "text": [
      "Using PyTorch version: 1.12.1  Device: cpu\n"
     ]
    }
   ],
   "source": [
    "if torch.cuda.is_available():\n",
    "    device = torch.device('cuda')\n",
    "else:\n",
    "    device = torch.device('cpu')\n",
    "\n",
    "print('Using PyTorch version:', torch.__version__, ' Device:', device)"
   ]
  },
  {
   "cell_type": "markdown",
   "id": "534d3122",
   "metadata": {},
   "source": [
    "## 3. CIFAR10 Data Normalization and Augmentation"
   ]
  },
  {
   "cell_type": "code",
   "execution_count": 3,
   "id": "9beb8a68",
   "metadata": {},
   "outputs": [
    {
     "name": "stdout",
     "output_type": "stream",
     "text": [
      "Files already downloaded and verified\n",
      "Files already downloaded and verified\n"
     ]
    }
   ],
   "source": [
    "train_data = datasets.CIFAR10('data', train=True, download=True, transform=transforms.ToTensor())\n",
    "test_data = datasets.CIFAR10('data', train=False, download=True, transform=transforms.ToTensor())"
   ]
  },
  {
   "cell_type": "markdown",
   "id": "f60a63b3",
   "metadata": {},
   "source": [
    "문제) 학습 데이터(training data)의 색상별 평균과 표준 편차를 구하자."
   ]
  },
  {
   "cell_type": "code",
   "execution_count": 4,
   "id": "43b15adb",
   "metadata": {},
   "outputs": [
    {
     "name": "stdout",
     "output_type": "stream",
     "text": [
      "(50000, 32, 32, 3)\n",
      "[0.4914009  0.48215896 0.4465308 ]\n",
      "[0.24703279 0.24348423 0.26158753]\n"
     ]
    }
   ],
   "source": [
    "print(train_data.data.shape)#채우세요)\n",
    "print(np.mean([img.numpy() for img, _ in train_data], axis=(0,2,3)))#채우세요)\n",
    "print(np.std([img.numpy() for img, _ in train_data], axis=(0,2,3)))#채우세요)"
   ]
  },
  {
   "cell_type": "markdown",
   "id": "ae8ac98c",
   "metadata": {},
   "source": [
    "문제) 위 내용을 반영하여 데이터를 Normalize 하고 랜덤하게 좌우반전 및 흑백 사진으로 바꾸자."
   ]
  },
  {
   "cell_type": "code",
   "execution_count": 5,
   "id": "ac88dac6",
   "metadata": {},
   "outputs": [
    {
     "name": "stdout",
     "output_type": "stream",
     "text": [
      "Files already downloaded and verified\n",
      "Files already downloaded and verified\n"
     ]
    }
   ],
   "source": [
    "transform = transforms.Compose(\n",
    "    [\n",
    "     transforms.RandomHorizontalFlip(),\n",
    "     transforms.Grayscale(num_output_channels=3),\n",
    "     transforms.ToTensor(),\n",
    "     transforms.Normalize(np.mean([img.numpy() for img, _ in train_data], axis=(0,2,3)), np.std([img.numpy() for img, _ in train_data], axis=(0, 2, 3)))\n",
    "     #채우세요\n",
    "    ])\n",
    "\n",
    "train_data = datasets.CIFAR10('data', train=True, download=True, transform=transform)\n",
    "test_data = datasets.CIFAR10('data', train=False, download=True, transform=transform)"
   ]
  },
  {
   "cell_type": "markdown",
   "id": "2cf7dfdd",
   "metadata": {},
   "source": [
    "완성된 dataset.CIFAR10 객체를 train_loader에 넣는다."
   ]
  },
  {
   "cell_type": "code",
   "execution_count": 6,
   "id": "d034ffb2",
   "metadata": {},
   "outputs": [],
   "source": [
    "BATCH_SIZE = 32\n",
    "\n",
    "train_loader = torch.utils.data.DataLoader(dataset=train_data, batch_size=BATCH_SIZE, shuffle=False)\n",
    "test_loader = torch.utils.data.DataLoader(dataset=test_data, batch_size=BATCH_SIZE, shuffle=False)    "
   ]
  },
  {
   "cell_type": "markdown",
   "id": "57ebcf43",
   "metadata": {},
   "source": [
    "아래의 코드를 여러번 돌려, 실제로 좌우반전 및 흑백사진으로 변하는지 확인하자."
   ]
  },
  {
   "cell_type": "code",
   "execution_count": 7,
   "id": "5d5527e0",
   "metadata": {},
   "outputs": [
    {
     "name": "stderr",
     "output_type": "stream",
     "text": [
      "Clipping input data to the valid range for imshow with RGB data ([0..1] for floats or [0..255] for integers).\n"
     ]
    },
    {
     "data": {
      "image/png": "[encoded data removed]",
      "text/plain": [
       "<Figure size 640x480 with 1 Axes>"
      ]
     },
     "metadata": {},
     "output_type": "display_data"
    }
   ],
   "source": [
    "for (X_train, y_train) in train_loader:\n",
    "    plt.imshow(X_train[0].permute(1,2,0).numpy())\n",
    "    plt.show()\n",
    "    break"
   ]
  },
  {
   "cell_type": "markdown",
   "id": "437ffb80",
   "metadata": {},
   "source": [
    "## 4. torch.nn을 이용하여 모델-1 만들기\n",
    "\n",
    "   1) input layer (입력층), hidden layer (은닉층), output layer (출력층) 으로 이루어진 모델을 이용\n",
    "\n",
    "   2) 하나의 hidden layer (은닉층)만 이용 - 은닉층의 개수는 100개로 하세요\n",
    "   \n",
    "   3) nn.Module을 상속 받아 만들 것!\n",
    "   \n",
    "   4) nn.Linear와 nn.ReLU를 사용할 것!\n",
    "   \n",
    "   5) Batch Normalization 을 사용할 것"
   ]
  },
  {
   "cell_type": "code",
   "execution_count": 8,
   "id": "defacffb",
   "metadata": {},
   "outputs": [],
   "source": [
    "import torch.nn as nn\n",
    "\n",
    "class Model_1(nn.Module):\n",
    "    def __init__(self):\n",
    "        super(Model_1, self).__init__()\n",
    "        self.input_layer = nn.Linear(32 * 32 * 3, 100)\n",
    "        self.batch_norm = nn.BatchNorm1d(100)\n",
    "        self.relu = nn.ReLU()\n",
    "        self.hidden_layer = nn.Linear(100,100)\n",
    "        self.output_layer = nn.Linear(100,10)\n",
    "          #채우세요\n",
    "    def forward(self,x):\n",
    "        x = x.view(x.size(0), -1)\n",
    "        x = self.input_layer(x)\n",
    "        x = self.batch_norm(x)\n",
    "        x = self.relu(x)\n",
    "        x = self.hidden_layer(x)\n",
    "        x = self.relu(x)\n",
    "        x = self.output_layer(x)\n",
    "         #채우세요\n",
    "        return x"
   ]
  },
  {
   "cell_type": "markdown",
   "id": "3e26eed9",
   "metadata": {},
   "source": [
    "## 5. torch.nn을 이용하여 모델-2 만들기\n",
    "\n",
    "   1) input layer (입력층), hidden layer (은닉층), output layer (출력층) 으로 이루어진 모델을 이용\n",
    "\n",
    "   2) 하나의 hidden layer (은닉층)만 이용 - 은닉층의 개수는 100개로 하세요\n",
    "   \n",
    "   3) nn.Module을 상속 받아 만들 것!\n",
    "   \n",
    "   4) nn.Linear와 nn.ReLU를 사용할 것!\n",
    "   \n",
    "   5) Dropout을 확률을 50%로 사용할 것 - BN는 사용하지 말것!"
   ]
  },
  {
   "cell_type": "code",
   "execution_count": 9,
   "id": "27ac70af",
   "metadata": {},
   "outputs": [],
   "source": [
    "class Model_2(nn.Module):\n",
    "    def __init__(self):\n",
    "        super(Model_2, self).__init__()\n",
    "        self.input_layer = nn.Linear(32 * 32 * 3, 100)\n",
    "        self.relu = nn.ReLU()\n",
    "        self.hidden_layer = nn.Linear(100, 100)\n",
    "        self.dropout = nn.Dropout(0.5)\n",
    "        self.output_layer = nn.Linear(100, 10)\n",
    "        \n",
    "         #채우세요\n",
    "    def forward(self,x):\n",
    "        x = x.view(x.size(0), -1)\n",
    "        x = self.input_layer(x)\n",
    "        x = self.relu(x)\n",
    "        x = self.hidden_layer(x)\n",
    "        x = self.dropout(x)\n",
    "        x = self.relu(x)\n",
    "        x = self.output_layer(x)\n",
    "        \n",
    "           #채우세요\n",
    "        return x"
   ]
  },
  {
   "cell_type": "markdown",
   "id": "de556825",
   "metadata": {},
   "source": [
    "## 7. 학습 준비하기\n",
    "\n",
    "1) 1 epoch를 학습할 수 있는 함수 만들기\n",
    "\n",
    "2) 1 테스트 데이터의 정확도 계산할 수 있는 함수 만들기"
   ]
  },
  {
   "cell_type": "code",
   "execution_count": 10,
   "id": "06030b48",
   "metadata": {},
   "outputs": [],
   "source": [
    "def training_epoch(train_loader, network, loss_func, optimizer, epoch):\n",
    "    train_losses = []\n",
    "    train_correct = 0\n",
    "    log_interval = 500\n",
    "    \n",
    "    for batch_idx, (image, label) in enumerate(train_loader):\n",
    "        # 미분값의 초기화\n",
    "        optimizer.zero_grad()\n",
    "\n",
    "        # 이미지를 (batch_size, -1) 차원의 메트릭스로 만드세요\n",
    "        batch_size = image.size(0)#채우세요\n",
    "        image = image.view(batch_size, -1)#채우세요\n",
    "\n",
    "        # Forward propagration 계산하기.\n",
    "        outputs = network(image)#채우세요\n",
    "        \n",
    "        \n",
    "        # loss_func 함수를 적용하여 loss를 구하고 저장하기\n",
    "        loss = loss_func(outputs, label)#채우세요\n",
    "        train_losses.append(loss.item())\n",
    "\n",
    "        # training accuracy 정확도 구하기 위해 맞는 샘플 개수 세기\n",
    "        pred = outputs.argmax(dim=1, keepdim=True)#채우세요\n",
    "        train_correct += pred.eq(label.view_as(pred)).sum().item()#채우세요\n",
    "\n",
    "        # Gradinet 구하기\n",
    "        loss.backward()\n",
    "        #채우세요\n",
    "\n",
    "        # weight값 update 하기\n",
    "        optimizer.step()#채우세요\n",
    "\n",
    "        # 학습 상황 출력\n",
    "        if batch_idx % log_interval == 0:\n",
    "            print('Train Epoch: {} [{}/{} ({:.0f}%)]\\tLoss: {:.6f}'\n",
    "                  .format(epoch, batch_idx * len(label), len(train_loader.dataset),100. * batch_idx / len(train_loader),\n",
    "                          loss.item()))\n",
    "            \n",
    "    return train_losses, train_correct"
   ]
  },
  {
   "cell_type": "code",
   "execution_count": 11,
   "id": "d3c0dcf9",
   "metadata": {},
   "outputs": [],
   "source": [
    "def test_epoch(test_loader, network, loss_func):\n",
    "    correct = 0\n",
    "    \n",
    "    test_losses = []\n",
    "    \n",
    "    with torch.no_grad():\n",
    "        for batch_idx, (image, label) in enumerate(test_loader):\n",
    "            batch_size = image.size(0)#채우세요\n",
    "            image = image.view(batch_size, -1)#채우세요\n",
    "\n",
    "            # Forward propagration 계산하기.\n",
    "            outputs = network(image)#채우세요\n",
    "\n",
    "            # loss_func 함수를 적용하여 loss를 구하고 저장하기\n",
    "            loss = loss_func(outputs, label)#채우세요\n",
    "            test_losses.append(loss.item())\n",
    "\n",
    "            # Batch 별로 정확도 구하기\n",
    "            pred = outputs.argmax(dim=1, keepdim=True)#채우세요\n",
    "            correct += pred.eq(label.view_as(pred)).sum().item()#채우세요\n",
    "\n",
    "        # 전체 정확도 구하기\n",
    "        test_accuracy = 100. * correct / len(test_loader.dataset)\n",
    "\n",
    "        #중간결과 출력\n",
    "        print('Test set: Accuracy: {}/{} ({:.0f}%)\\n'\n",
    "              .format(correct, len(test_loader.dataset),100. * correct / len(test_loader.dataset)))\n",
    "    return test_losses, test_accuracy\n"
   ]
  },
  {
   "cell_type": "markdown",
   "id": "88d73c53",
   "metadata": {},
   "source": [
    "## 7. 위 정의된 함수로 학습 함수 만들기\n",
    "\n",
    "1. SGD Optimizer를 사용하고\n",
    "\n",
    "2. Regularizer 를 사용하여 (weight_decay = 0.01로 사용할 것)\n",
    "\n",
    "학습시키기"
   ]
  },
  {
   "cell_type": "code",
   "execution_count": 12,
   "id": "df29783f",
   "metadata": {},
   "outputs": [],
   "source": [
    "def training(network, learning_rate = 0.01):\n",
    "    \n",
    "#     learning_rate = 0.01\n",
    "    epoches = 20\n",
    "    \n",
    "    cls_loss = nn.CrossEntropyLoss()#채우세요\n",
    "    optimizer = optim.SGD(network.parameters(), lr=learning_rate, weight_decay=0.01) #채우세요\n",
    "    \n",
    "    train_losses_per_epoch = []\n",
    "    test_losses_per_epoch = []\n",
    "    \n",
    "    train_accuracies = []\n",
    "    test_accuracies = []\n",
    "    \n",
    "    \n",
    "    for epoch in range(epoches):\n",
    "                \n",
    "        # 모델를 학습 중이라고 선언하기\n",
    "        network.train()\n",
    "        \n",
    "        train_losses, train_correct = training_epoch(train_loader,network,cls_loss,optimizer, epoch)\n",
    "        \n",
    "        # epoch 별로 loss 평균값, 정확도 구하기\n",
    "        average_loss = np.mean(train_losses)\n",
    "        train_losses_per_epoch.append(average_loss)\n",
    "        \n",
    "        train_accuracy = train_correct / len(train_loader.dataset) * 100\n",
    "        train_accuracies.append(train_accuracy)\n",
    "        \n",
    "        # epoch 별로 정확도 출력\n",
    "        print('\\nTraining set: Accuracy: {}/{} ({:.0f}%)'\n",
    "              .format(train_correct, len(train_loader.dataset),100. * train_correct / len(train_loader.dataset)))\n",
    "\n",
    "        \n",
    "        ### 학습 중에 test 결과 보기\n",
    "        \n",
    "        # 모델 test 중인 것을 선언하기\n",
    "        network.eval()\n",
    "        \n",
    "        correct = 0\n",
    "        with torch.no_grad():\n",
    "            test_losses, test_accuracy = test_epoch(test_loader, network, cls_loss)\n",
    "\n",
    "        test_losses_per_epoch.append(np.mean(test_losses))\n",
    "        test_accuracies.append(test_accuracy)\n",
    "        \n",
    "    return train_losses_per_epoch, test_losses_per_epoch, train_accuracies, test_accuracies\n"
   ]
  },
  {
   "cell_type": "code",
   "execution_count": 13,
   "id": "e1394321",
   "metadata": {},
   "outputs": [
    {
     "name": "stdout",
     "output_type": "stream",
     "text": [
      "Train Epoch: 0 [0/50000 (0%)]\tLoss: 2.322869\n",
      "Train Epoch: 0 [16000/50000 (32%)]\tLoss: 2.139995\n",
      "Train Epoch: 0 [32000/50000 (64%)]\tLoss: 2.150256\n",
      "Train Epoch: 0 [48000/50000 (96%)]\tLoss: 1.974655\n",
      "\n",
      "Training set: Accuracy: 14265/50000 (29%)\n",
      "Test set: Accuracy: 3319/10000 (33%)\n",
      "\n",
      "Train Epoch: 1 [0/50000 (0%)]\tLoss: 2.029340\n",
      "Train Epoch: 1 [16000/50000 (32%)]\tLoss: 2.023377\n",
      "Train Epoch: 1 [32000/50000 (64%)]\tLoss: 2.042721\n",
      "Train Epoch: 1 [48000/50000 (96%)]\tLoss: 1.916356\n",
      "\n",
      "Training set: Accuracy: 16799/50000 (34%)\n",
      "Test set: Accuracy: 3638/10000 (36%)\n",
      "\n",
      "Train Epoch: 2 [0/50000 (0%)]\tLoss: 1.923250\n",
      "Train Epoch: 2 [16000/50000 (32%)]\tLoss: 1.993745\n",
      "Train Epoch: 2 [32000/50000 (64%)]\tLoss: 2.007661\n",
      "Train Epoch: 2 [48000/50000 (96%)]\tLoss: 1.936642\n",
      "\n",
      "Training set: Accuracy: 17876/50000 (36%)\n",
      "Test set: Accuracy: 3793/10000 (38%)\n",
      "\n",
      "Train Epoch: 3 [0/50000 (0%)]\tLoss: 1.906228\n",
      "Train Epoch: 3 [16000/50000 (32%)]\tLoss: 1.924427\n",
      "Train Epoch: 3 [32000/50000 (64%)]\tLoss: 1.976398\n",
      "Train Epoch: 3 [48000/50000 (96%)]\tLoss: 1.852445\n",
      "\n",
      "Training set: Accuracy: 18642/50000 (37%)\n",
      "Test set: Accuracy: 3922/10000 (39%)\n",
      "\n",
      "Train Epoch: 4 [0/50000 (0%)]\tLoss: 1.846049\n",
      "Train Epoch: 4 [16000/50000 (32%)]\tLoss: 1.887749\n",
      "Train Epoch: 4 [32000/50000 (64%)]\tLoss: 1.904273\n",
      "Train Epoch: 4 [48000/50000 (96%)]\tLoss: 1.900453\n",
      "\n",
      "Training set: Accuracy: 19139/50000 (38%)\n",
      "Test set: Accuracy: 3957/10000 (40%)\n",
      "\n",
      "Train Epoch: 5 [0/50000 (0%)]\tLoss: 1.801780\n",
      "Train Epoch: 5 [16000/50000 (32%)]\tLoss: 1.922247\n",
      "Train Epoch: 5 [32000/50000 (64%)]\tLoss: 1.934376\n",
      "Train Epoch: 5 [48000/50000 (96%)]\tLoss: 1.846765\n",
      "\n",
      "Training set: Accuracy: 19493/50000 (39%)\n",
      "Test set: Accuracy: 3992/10000 (40%)\n",
      "\n",
      "Train Epoch: 6 [0/50000 (0%)]\tLoss: 1.787664\n",
      "Train Epoch: 6 [16000/50000 (32%)]\tLoss: 1.883577\n",
      "Train Epoch: 6 [32000/50000 (64%)]\tLoss: 1.911863\n",
      "Train Epoch: 6 [48000/50000 (96%)]\tLoss: 1.839422\n",
      "\n",
      "Training set: Accuracy: 19724/50000 (39%)\n",
      "Test set: Accuracy: 4097/10000 (41%)\n",
      "\n",
      "Train Epoch: 7 [0/50000 (0%)]\tLoss: 1.809174\n",
      "Train Epoch: 7 [16000/50000 (32%)]\tLoss: 1.868889\n",
      "Train Epoch: 7 [32000/50000 (64%)]\tLoss: 1.974082\n",
      "Train Epoch: 7 [48000/50000 (96%)]\tLoss: 1.873725\n",
      "\n",
      "Training set: Accuracy: 19930/50000 (40%)\n",
      "Test set: Accuracy: 4101/10000 (41%)\n",
      "\n",
      "Train Epoch: 8 [0/50000 (0%)]\tLoss: 1.772312\n",
      "Train Epoch: 8 [16000/50000 (32%)]\tLoss: 1.862105\n",
      "Train Epoch: 8 [32000/50000 (64%)]\tLoss: 1.978827\n",
      "Train Epoch: 8 [48000/50000 (96%)]\tLoss: 1.834428\n",
      "\n",
      "Training set: Accuracy: 20030/50000 (40%)\n",
      "Test set: Accuracy: 4108/10000 (41%)\n",
      "\n",
      "Train Epoch: 9 [0/50000 (0%)]\tLoss: 1.776341\n",
      "Train Epoch: 9 [16000/50000 (32%)]\tLoss: 1.847854\n",
      "Train Epoch: 9 [32000/50000 (64%)]\tLoss: 1.933563\n",
      "Train Epoch: 9 [48000/50000 (96%)]\tLoss: 1.819503\n",
      "\n",
      "Training set: Accuracy: 20188/50000 (40%)\n",
      "Test set: Accuracy: 4110/10000 (41%)\n",
      "\n",
      "Train Epoch: 10 [0/50000 (0%)]\tLoss: 1.742234\n",
      "Train Epoch: 10 [16000/50000 (32%)]\tLoss: 1.837056\n",
      "Train Epoch: 10 [32000/50000 (64%)]\tLoss: 1.893151\n",
      "Train Epoch: 10 [48000/50000 (96%)]\tLoss: 1.795604\n",
      "\n",
      "Training set: Accuracy: 20247/50000 (40%)\n",
      "Test set: Accuracy: 4084/10000 (41%)\n",
      "\n",
      "Train Epoch: 11 [0/50000 (0%)]\tLoss: 1.787152\n",
      "Train Epoch: 11 [16000/50000 (32%)]\tLoss: 1.818290\n",
      "Train Epoch: 11 [32000/50000 (64%)]\tLoss: 1.855054\n",
      "Train Epoch: 11 [48000/50000 (96%)]\tLoss: 1.850967\n",
      "\n",
      "Training set: Accuracy: 20281/50000 (41%)\n",
      "Test set: Accuracy: 4133/10000 (41%)\n",
      "\n",
      "Train Epoch: 12 [0/50000 (0%)]\tLoss: 1.776332\n",
      "Train Epoch: 12 [16000/50000 (32%)]\tLoss: 1.833767\n",
      "Train Epoch: 12 [32000/50000 (64%)]\tLoss: 1.887086\n",
      "Train Epoch: 12 [48000/50000 (96%)]\tLoss: 1.805005\n",
      "\n",
      "Training set: Accuracy: 20259/50000 (41%)\n",
      "Test set: Accuracy: 4135/10000 (41%)\n",
      "\n",
      "Train Epoch: 13 [0/50000 (0%)]\tLoss: 1.747436\n",
      "Train Epoch: 13 [16000/50000 (32%)]\tLoss: 1.805377\n",
      "Train Epoch: 13 [32000/50000 (64%)]\tLoss: 1.913557\n",
      "Train Epoch: 13 [48000/50000 (96%)]\tLoss: 1.836329\n",
      "\n",
      "Training set: Accuracy: 20422/50000 (41%)\n",
      "Test set: Accuracy: 4149/10000 (41%)\n",
      "\n",
      "Train Epoch: 14 [0/50000 (0%)]\tLoss: 1.757822\n",
      "Train Epoch: 14 [16000/50000 (32%)]\tLoss: 1.833179\n",
      "Train Epoch: 14 [32000/50000 (64%)]\tLoss: 1.869839\n",
      "Train Epoch: 14 [48000/50000 (96%)]\tLoss: 1.801558\n",
      "\n",
      "Training set: Accuracy: 20450/50000 (41%)\n",
      "Test set: Accuracy: 4149/10000 (41%)\n",
      "\n",
      "Train Epoch: 15 [0/50000 (0%)]\tLoss: 1.776351\n",
      "Train Epoch: 15 [16000/50000 (32%)]\tLoss: 1.825570\n",
      "Train Epoch: 15 [32000/50000 (64%)]\tLoss: 1.865926\n",
      "Train Epoch: 15 [48000/50000 (96%)]\tLoss: 1.787386\n",
      "\n",
      "Training set: Accuracy: 20449/50000 (41%)\n",
      "Test set: Accuracy: 4126/10000 (41%)\n",
      "\n",
      "Train Epoch: 16 [0/50000 (0%)]\tLoss: 1.780979\n",
      "Train Epoch: 16 [16000/50000 (32%)]\tLoss: 1.829947\n",
      "Train Epoch: 16 [32000/50000 (64%)]\tLoss: 1.913695\n",
      "Train Epoch: 16 [48000/50000 (96%)]\tLoss: 1.771843\n",
      "\n",
      "Training set: Accuracy: 20593/50000 (41%)\n",
      "Test set: Accuracy: 4145/10000 (41%)\n",
      "\n",
      "Train Epoch: 17 [0/50000 (0%)]\tLoss: 1.799207\n",
      "Train Epoch: 17 [16000/50000 (32%)]\tLoss: 1.814440\n",
      "Train Epoch: 17 [32000/50000 (64%)]\tLoss: 1.883556\n",
      "Train Epoch: 17 [48000/50000 (96%)]\tLoss: 1.796306\n",
      "\n",
      "Training set: Accuracy: 20529/50000 (41%)\n",
      "Test set: Accuracy: 4128/10000 (41%)\n",
      "\n",
      "Train Epoch: 18 [0/50000 (0%)]\tLoss: 1.738689\n",
      "Train Epoch: 18 [16000/50000 (32%)]\tLoss: 1.843873\n",
      "Train Epoch: 18 [32000/50000 (64%)]\tLoss: 1.890126\n",
      "Train Epoch: 18 [48000/50000 (96%)]\tLoss: 1.790326\n",
      "\n",
      "Training set: Accuracy: 20602/50000 (41%)\n",
      "Test set: Accuracy: 4119/10000 (41%)\n",
      "\n",
      "Train Epoch: 19 [0/50000 (0%)]\tLoss: 1.786549\n",
      "Train Epoch: 19 [16000/50000 (32%)]\tLoss: 1.761268\n",
      "Train Epoch: 19 [32000/50000 (64%)]\tLoss: 1.887690\n",
      "Train Epoch: 19 [48000/50000 (96%)]\tLoss: 1.789963\n",
      "\n",
      "Training set: Accuracy: 20564/50000 (41%)\n",
      "Test set: Accuracy: 4158/10000 (42%)\n",
      "\n"
     ]
    }
   ],
   "source": [
    "network = Model_1()\n",
    "rlt_const = training(network, 0.01)#채우세요"
   ]
  },
  {
   "cell_type": "code",
   "execution_count": 14,
   "id": "2b3bb3ed",
   "metadata": {},
   "outputs": [
    {
     "name": "stdout",
     "output_type": "stream",
     "text": [
      "Train Epoch: 0 [0/50000 (0%)]\tLoss: 2.273205\n",
      "Train Epoch: 0 [16000/50000 (32%)]\tLoss: 2.210070\n",
      "Train Epoch: 0 [32000/50000 (64%)]\tLoss: 2.090549\n",
      "Train Epoch: 0 [48000/50000 (96%)]\tLoss: 2.028391\n",
      "\n",
      "Training set: Accuracy: 14719/50000 (29%)\n",
      "Test set: Accuracy: 3579/10000 (36%)\n",
      "\n",
      "Train Epoch: 1 [0/50000 (0%)]\tLoss: 2.008768\n",
      "Train Epoch: 1 [16000/50000 (32%)]\tLoss: 2.013009\n",
      "Train Epoch: 1 [32000/50000 (64%)]\tLoss: 1.973273\n",
      "Train Epoch: 1 [48000/50000 (96%)]\tLoss: 2.089702\n",
      "\n",
      "Training set: Accuracy: 17098/50000 (34%)\n",
      "Test set: Accuracy: 3766/10000 (38%)\n",
      "\n",
      "Train Epoch: 2 [0/50000 (0%)]\tLoss: 2.094177\n",
      "Train Epoch: 2 [16000/50000 (32%)]\tLoss: 1.957456\n",
      "Train Epoch: 2 [32000/50000 (64%)]\tLoss: 2.101131\n",
      "Train Epoch: 2 [48000/50000 (96%)]\tLoss: 1.884628\n",
      "\n",
      "Training set: Accuracy: 17810/50000 (36%)\n",
      "Test set: Accuracy: 3876/10000 (39%)\n",
      "\n",
      "Train Epoch: 3 [0/50000 (0%)]\tLoss: 2.053934\n",
      "Train Epoch: 3 [16000/50000 (32%)]\tLoss: 1.913815\n",
      "Train Epoch: 3 [32000/50000 (64%)]\tLoss: 2.012611\n",
      "Train Epoch: 3 [48000/50000 (96%)]\tLoss: 1.925883\n",
      "\n",
      "Training set: Accuracy: 18335/50000 (37%)\n",
      "Test set: Accuracy: 3879/10000 (39%)\n",
      "\n",
      "Train Epoch: 4 [0/50000 (0%)]\tLoss: 1.893844\n",
      "Train Epoch: 4 [16000/50000 (32%)]\tLoss: 1.870069\n",
      "Train Epoch: 4 [32000/50000 (64%)]\tLoss: 1.997094\n",
      "Train Epoch: 4 [48000/50000 (96%)]\tLoss: 2.051207\n",
      "\n",
      "Training set: Accuracy: 18619/50000 (37%)\n",
      "Test set: Accuracy: 3960/10000 (40%)\n",
      "\n",
      "Train Epoch: 5 [0/50000 (0%)]\tLoss: 1.712849\n",
      "Train Epoch: 5 [16000/50000 (32%)]\tLoss: 1.787662\n",
      "Train Epoch: 5 [32000/50000 (64%)]\tLoss: 1.946529\n",
      "Train Epoch: 5 [48000/50000 (96%)]\tLoss: 1.902845\n",
      "\n",
      "Training set: Accuracy: 18623/50000 (37%)\n",
      "Test set: Accuracy: 4025/10000 (40%)\n",
      "\n",
      "Train Epoch: 6 [0/50000 (0%)]\tLoss: 1.944169\n",
      "Train Epoch: 6 [16000/50000 (32%)]\tLoss: 1.982895\n",
      "Train Epoch: 6 [32000/50000 (64%)]\tLoss: 2.117036\n",
      "Train Epoch: 6 [48000/50000 (96%)]\tLoss: 1.938154\n",
      "\n",
      "Training set: Accuracy: 18809/50000 (38%)\n",
      "Test set: Accuracy: 3936/10000 (39%)\n",
      "\n",
      "Train Epoch: 7 [0/50000 (0%)]\tLoss: 1.903421\n",
      "Train Epoch: 7 [16000/50000 (32%)]\tLoss: 1.968124\n",
      "Train Epoch: 7 [32000/50000 (64%)]\tLoss: 2.092870\n",
      "Train Epoch: 7 [48000/50000 (96%)]\tLoss: 1.863937\n",
      "\n",
      "Training set: Accuracy: 18620/50000 (37%)\n",
      "Test set: Accuracy: 3959/10000 (40%)\n",
      "\n",
      "Train Epoch: 8 [0/50000 (0%)]\tLoss: 1.902097\n",
      "Train Epoch: 8 [16000/50000 (32%)]\tLoss: 1.740128\n",
      "Train Epoch: 8 [32000/50000 (64%)]\tLoss: 1.900324\n",
      "Train Epoch: 8 [48000/50000 (96%)]\tLoss: 1.910306\n",
      "\n",
      "Training set: Accuracy: 18869/50000 (38%)\n",
      "Test set: Accuracy: 3916/10000 (39%)\n",
      "\n",
      "Train Epoch: 9 [0/50000 (0%)]\tLoss: 1.868359\n",
      "Train Epoch: 9 [16000/50000 (32%)]\tLoss: 1.902951\n",
      "Train Epoch: 9 [32000/50000 (64%)]\tLoss: 1.946972\n",
      "Train Epoch: 9 [48000/50000 (96%)]\tLoss: 1.788606\n",
      "\n",
      "Training set: Accuracy: 18883/50000 (38%)\n",
      "Test set: Accuracy: 3974/10000 (40%)\n",
      "\n",
      "Train Epoch: 10 [0/50000 (0%)]\tLoss: 1.852672\n",
      "Train Epoch: 10 [16000/50000 (32%)]\tLoss: 1.838923\n",
      "Train Epoch: 10 [32000/50000 (64%)]\tLoss: 1.934070\n",
      "Train Epoch: 10 [48000/50000 (96%)]\tLoss: 1.860039\n",
      "\n",
      "Training set: Accuracy: 18922/50000 (38%)\n",
      "Test set: Accuracy: 3976/10000 (40%)\n",
      "\n",
      "Train Epoch: 11 [0/50000 (0%)]\tLoss: 1.882538\n",
      "Train Epoch: 11 [16000/50000 (32%)]\tLoss: 1.961860\n",
      "Train Epoch: 11 [32000/50000 (64%)]\tLoss: 1.864697\n",
      "Train Epoch: 11 [48000/50000 (96%)]\tLoss: 1.958815\n",
      "\n",
      "Training set: Accuracy: 18978/50000 (38%)\n",
      "Test set: Accuracy: 3978/10000 (40%)\n",
      "\n",
      "Train Epoch: 12 [0/50000 (0%)]\tLoss: 1.711763\n",
      "Train Epoch: 12 [16000/50000 (32%)]\tLoss: 1.831613\n",
      "Train Epoch: 12 [32000/50000 (64%)]\tLoss: 2.033158\n",
      "Train Epoch: 12 [48000/50000 (96%)]\tLoss: 2.005895\n",
      "\n",
      "Training set: Accuracy: 19008/50000 (38%)\n",
      "Test set: Accuracy: 3808/10000 (38%)\n",
      "\n",
      "Train Epoch: 13 [0/50000 (0%)]\tLoss: 1.912064\n",
      "Train Epoch: 13 [16000/50000 (32%)]\tLoss: 1.730310\n",
      "Train Epoch: 13 [32000/50000 (64%)]\tLoss: 2.006059\n",
      "Train Epoch: 13 [48000/50000 (96%)]\tLoss: 1.854396\n",
      "\n",
      "Training set: Accuracy: 18965/50000 (38%)\n",
      "Test set: Accuracy: 4004/10000 (40%)\n",
      "\n",
      "Train Epoch: 14 [0/50000 (0%)]\tLoss: 1.922563\n",
      "Train Epoch: 14 [16000/50000 (32%)]\tLoss: 1.887875\n",
      "Train Epoch: 14 [32000/50000 (64%)]\tLoss: 1.854116\n",
      "Train Epoch: 14 [48000/50000 (96%)]\tLoss: 2.103393\n",
      "\n",
      "Training set: Accuracy: 18923/50000 (38%)\n",
      "Test set: Accuracy: 3878/10000 (39%)\n",
      "\n",
      "Train Epoch: 15 [0/50000 (0%)]\tLoss: 1.849728\n",
      "Train Epoch: 15 [16000/50000 (32%)]\tLoss: 1.925529\n",
      "Train Epoch: 15 [32000/50000 (64%)]\tLoss: 1.982738\n",
      "Train Epoch: 15 [48000/50000 (96%)]\tLoss: 1.956150\n",
      "\n",
      "Training set: Accuracy: 19018/50000 (38%)\n",
      "Test set: Accuracy: 3940/10000 (39%)\n",
      "\n",
      "Train Epoch: 16 [0/50000 (0%)]\tLoss: 1.789198\n",
      "Train Epoch: 16 [16000/50000 (32%)]\tLoss: 1.879381\n",
      "Train Epoch: 16 [32000/50000 (64%)]\tLoss: 1.919586\n",
      "Train Epoch: 16 [48000/50000 (96%)]\tLoss: 1.973776\n",
      "\n",
      "Training set: Accuracy: 18940/50000 (38%)\n",
      "Test set: Accuracy: 3898/10000 (39%)\n",
      "\n",
      "Train Epoch: 17 [0/50000 (0%)]\tLoss: 1.816876\n",
      "Train Epoch: 17 [16000/50000 (32%)]\tLoss: 1.774490\n",
      "Train Epoch: 17 [32000/50000 (64%)]\tLoss: 2.004906\n",
      "Train Epoch: 17 [48000/50000 (96%)]\tLoss: 1.919034\n",
      "\n",
      "Training set: Accuracy: 18981/50000 (38%)\n",
      "Test set: Accuracy: 4036/10000 (40%)\n",
      "\n",
      "Train Epoch: 18 [0/50000 (0%)]\tLoss: 1.893796\n",
      "Train Epoch: 18 [16000/50000 (32%)]\tLoss: 1.768389\n",
      "Train Epoch: 18 [32000/50000 (64%)]\tLoss: 2.098539\n",
      "Train Epoch: 18 [48000/50000 (96%)]\tLoss: 2.119141\n",
      "\n",
      "Training set: Accuracy: 18882/50000 (38%)\n",
      "Test set: Accuracy: 3963/10000 (40%)\n",
      "\n",
      "Train Epoch: 19 [0/50000 (0%)]\tLoss: 1.791019\n",
      "Train Epoch: 19 [16000/50000 (32%)]\tLoss: 1.895896\n",
      "Train Epoch: 19 [32000/50000 (64%)]\tLoss: 1.960670\n",
      "Train Epoch: 19 [48000/50000 (96%)]\tLoss: 1.917762\n",
      "\n",
      "Training set: Accuracy: 19018/50000 (38%)\n",
      "Test set: Accuracy: 3930/10000 (39%)\n",
      "\n"
     ]
    }
   ],
   "source": [
    "network2 = Model_2()\n",
    "rlt_const2 = training(network2, 0.05)"
   ]
  },
  {
   "cell_type": "markdown",
   "id": "5480845d",
   "metadata": {},
   "source": [
    "# 8.학습 결과 보기 \n",
    "## loss와 Accuracy 값 비교"
   ]
  },
  {
   "cell_type": "code",
   "execution_count": 15,
   "id": "8d65ae99",
   "metadata": {},
   "outputs": [],
   "source": [
    "def show_rlt(rlt,title):\n",
    "    fig = plt.figure(figsize=(15,5))\n",
    "\n",
    "    fig.suptitle(title)\n",
    "    ax1 = fig.add_subplot(121)\n",
    "    ax2 = fig.add_subplot(122)\n",
    "\n",
    "    x = np.arange(1,21)\n",
    "  \n",
    "    ax1.plot(x,rlt[0], x,rlt[1])\n",
    "    ax1.legend(['training', 'test'])\n",
    "    ax1.set_xlabel('Epoches --->')\n",
    "    ax1.set_ylabel('Loss --->')\n",
    "    ax1.set_xlim([0,21])\n",
    "    \n",
    "    ax2.plot(x,rlt[2],x,rlt[3])\n",
    "    ax2.legend(['training', 'test'])\n",
    "    ax2.set_xlabel('Epoches --->')\n",
    "    ax2.set_ylabel('Accuracy --->')\n",
    "    ax2.set_xlim([0,21])\n",
    "\n",
    "    plt.show()"
   ]
  },
  {
   "cell_type": "code",
   "execution_count": 16,
   "id": "a9308ece",
   "metadata": {},
   "outputs": [
    {
     "data": {
      "image/png": "[encoded data removed]",
      "text/plain": [
       "<Figure size 1500x500 with 2 Axes>"
      ]
     },
     "metadata": {},
     "output_type": "display_data"
    }
   ],
   "source": [
    "show_rlt(rlt_const, 'Batch_Normalization_2020125046')"
   ]
  },
  {
   "cell_type": "code",
   "execution_count": 17,
   "id": "566d0de1",
   "metadata": {},
   "outputs": [
    {
     "data": {
      "image/png": "[encoded data removed]",
      "text/plain": [
       "<Figure size 1500x500 with 2 Axes>"
      ]
     },
     "metadata": {},
     "output_type": "display_data"
    }
   ],
   "source": [
    "show_rlt(rlt_const2, 'Dropout_2020125046')"
   ]
  },
  {
   "cell_type": "markdown",
   "id": "fd1beff5",
   "metadata": {},
   "source": [
    "# 9. Hyperparameter 찾기\n",
    "\n",
    "위 Dropout 모델의 최적의 learning rate를 찾으세요.\n",
    "\n",
    "스스로 계획을 짜고 어떤 lr 이 가장 나은 성능을 내었는지 분석하세요."
   ]
  },
  {
   "cell_type": "markdown",
   "id": "b4fa3de2",
   "metadata": {},
   "source": [
    "lr에 0.01, 0.001, 0.0001을 넣었을 때, lr의 값이 작아질수록 loss, accuracy 모두 조금 더 안정적이게 됨으로 가장 나은 성능을 냈다고 볼 수 있다"
   ]
  },
  {
   "cell_type": "code",
   "execution_count": 18,
   "id": "cb0b2401",
   "metadata": {},
   "outputs": [
    {
     "name": "stdout",
     "output_type": "stream",
     "text": [
      "이서영 2020125046\n"
     ]
    }
   ],
   "source": [
    "print(\"이서영 2020125046\")"
   ]
  }
 ],
 "metadata": {
  "kernelspec": {
   "display_name": "Python 3 (ipykernel)",
   "language": "python",
   "name": "python3"
  },
  "language_info": {
   "codemirror_mode": {
    "name": "ipython",
    "version": 3
   },
   "file_extension": ".py",
   "mimetype": "text/x-python",
   "name": "python",
   "nbconvert_exporter": "python",
   "pygments_lexer": "ipython3",
   "version": "3.7.16"
  }
 },
 "nbformat": 4,
 "nbformat_minor": 5
}
