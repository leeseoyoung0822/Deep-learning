{
 "cells": [
  {
   "cell_type": "markdown",
   "id": "187bc05b",
   "metadata": {},
   "source": [
    "# EXCEL로 만든 인공신경망을 pytorch의 Tensor 클래스을 이용하여 만들기"
   ]
  },
  {
   "cell_type": "code",
   "execution_count": 1,
   "id": "40b1557a",
   "metadata": {},
   "outputs": [],
   "source": [
    "import torch"
   ]
  },
  {
   "cell_type": "markdown",
   "id": "52dacaad",
   "metadata": {},
   "source": [
    "필요한 함수의 정의하기"
   ]
  },
  {
   "cell_type": "code",
   "execution_count": 125,
   "id": "c53c8aba",
   "metadata": {},
   "outputs": [],
   "source": [
    "def ReLU_func(outputs):\n",
    "    final_outputs = torch.maximum(torch.tensor(0), outputs)# 채우기\n",
    "    return final_outputs\n",
    "\n",
    "def softmax(outputs):\n",
    "    max, _ = torch.max(outputs, dim=-1, keepdim=True)\n",
    "    exp = torch.exp(outputs - max)\n",
    "    return exp / torch.sum(exp, dim=-1, keepdim=True)\n",
    "\n",
    "def cross_entropy(outputs, labels):\n",
    "    return -1*torch.sum(labels * torch.log(outputs), axis=1) # 채우기"
   ]
  },
  {
   "cell_type": "markdown",
   "id": "8bb50e1f",
   "metadata": {},
   "source": [
    "Weight 값 설정하기"
   ]
  },
  {
   "cell_type": "code",
   "execution_count": 126,
   "id": "41143ded",
   "metadata": {},
   "outputs": [],
   "source": [
    "w_ih = torch.Tensor([[1,-2,3],[-2,5,3]])\n",
    "w_ho = torch.Tensor([[3,-2,4],[-1,2,3],[2,-2,-4]])"
   ]
  },
  {
   "cell_type": "markdown",
   "id": "1d9997f9",
   "metadata": {},
   "source": [
    "Batch 가 3인 Input 값과 Labels 값의 입력하기"
   ]
  },
  {
   "cell_type": "code",
   "execution_count": 127,
   "id": "a572aa07",
   "metadata": {},
   "outputs": [],
   "source": [
    "input = torch.Tensor([[2,-4],[0,3],[-6,2]])\n",
    "labels = torch.Tensor([[1,0,0],[0,1,0],[0,0,1]])"
   ]
  },
  {
   "cell_type": "markdown",
   "id": "2bef726d",
   "metadata": {},
   "source": [
    "L1의 활성화 함수 전의 값 구하기"
   ]
  },
  {
   "cell_type": "code",
   "execution_count": 128,
   "id": "bf59a79f",
   "metadata": {},
   "outputs": [
    {
     "name": "stdout",
     "output_type": "stream",
     "text": [
      "tensor([[ 10., -24.,  -6.],\n",
      "        [ -6.,  15.,   9.],\n",
      "        [-10.,  22., -12.]])\n"
     ]
    }
   ],
   "source": [
    "L1 = torch.mm(input, w_ih) # 채우기\n",
    "print(L1)"
   ]
  },
  {
   "cell_type": "markdown",
   "id": "f8de5cb0",
   "metadata": {},
   "source": [
    "ReLU의 적용하기"
   ]
  },
  {
   "cell_type": "code",
   "execution_count": 129,
   "id": "b8c2c44f",
   "metadata": {},
   "outputs": [
    {
     "name": "stdout",
     "output_type": "stream",
     "text": [
      "tensor([[10.,  0.,  0.],\n",
      "        [ 0., 15.,  9.],\n",
      "        [ 0., 22.,  0.]])\n"
     ]
    }
   ],
   "source": [
    "L1 = ReLU_func(L1) # 채우기\n",
    "print(L1)"
   ]
  },
  {
   "cell_type": "markdown",
   "id": "f9e9b42c",
   "metadata": {},
   "source": [
    "Output 구하기"
   ]
  },
  {
   "cell_type": "code",
   "execution_count": 130,
   "id": "72dc0d6c",
   "metadata": {},
   "outputs": [
    {
     "name": "stdout",
     "output_type": "stream",
     "text": [
      "tensor([[ 30., -20.,  40.],\n",
      "        [  3.,  12.,   9.],\n",
      "        [-22.,  44.,  66.]])\n"
     ]
    }
   ],
   "source": [
    "outputs = torch.mm(L1, w_ho) # 채우기\n",
    "print(outputs)"
   ]
  },
  {
   "cell_type": "markdown",
   "id": "86e4c95f",
   "metadata": {},
   "source": [
    "Softmax의 적용"
   ]
  },
  {
   "cell_type": "code",
   "execution_count": 131,
   "id": "d4f97dde",
   "metadata": {},
   "outputs": [
    {
     "name": "stdout",
     "output_type": "stream",
     "text": [
      "tensor([[4.5398e-05, 8.7561e-27, 9.9995e-01],\n",
      "        [1.1754e-04, 9.5246e-01, 4.7420e-02],\n",
      "        [6.0546e-39, 2.7895e-10, 1.0000e+00]])\n"
     ]
    }
   ],
   "source": [
    "so = softmax(outputs)\n",
    "print(so)"
   ]
  },
  {
   "cell_type": "markdown",
   "id": "a2131903",
   "metadata": {},
   "source": [
    "sample별로 loss 구하기"
   ]
  },
  {
   "cell_type": "code",
   "execution_count": 132,
   "id": "e08c9c96",
   "metadata": {},
   "outputs": [
    {
     "name": "stdout",
     "output_type": "stream",
     "text": [
      "tensor([10.0000,  0.0487, -0.0000])\n"
     ]
    }
   ],
   "source": [
    "loss = cross_entropy(so, labels)\n",
    "print(loss)"
   ]
  },
  {
   "cell_type": "markdown",
   "id": "8cd0b2cf",
   "metadata": {},
   "source": [
    "최종 loss 구하기"
   ]
  },
  {
   "cell_type": "code",
   "execution_count": 133,
   "id": "36fe5758",
   "metadata": {},
   "outputs": [
    {
     "name": "stdout",
     "output_type": "stream",
     "text": [
      "tensor(10.0488)\n"
     ]
    }
   ],
   "source": [
    "loss = torch.sum(loss)\n",
    "print(loss)"
   ]
  },
  {
   "cell_type": "markdown",
   "id": "eb21e73c",
   "metadata": {},
   "source": [
    "## EXCEL과 같은 답이 나오는가? 아니요\n"
   ]
  },
  {
   "cell_type": "markdown",
   "id": "893cd1b6",
   "metadata": {},
   "source": [
    " #### 아니면 이유가 무엇인가? \n"
   ]
  },
  {
   "cell_type": "markdown",
   "id": "d0698009",
   "metadata": {},
   "source": [
    "답변 하시오\n",
    "\n",
    "\n",
    "파이썬은 반올림을 해서 나타내기 때문에 loss 값과 다르다\n"
   ]
  },
  {
   "cell_type": "code",
   "execution_count": 134,
   "id": "fe79334d",
   "metadata": {},
   "outputs": [
    {
     "name": "stdout",
     "output_type": "stream",
     "text": [
      "이서영 2020125046\n"
     ]
    }
   ],
   "source": [
    "print(\"이서영 2020125046\")"
   ]
  },
  {
   "cell_type": "code",
   "execution_count": null,
   "id": "649ba7e3",
   "metadata": {},
   "outputs": [],
   "source": []
  }
 ],
 "metadata": {
  "kernelspec": {
   "display_name": "PyTorch",
   "language": "python",
   "name": "pytorch"
  },
  "language_info": {
   "codemirror_mode": {
    "name": "ipython",
    "version": 3
   },
   "file_extension": ".py",
   "mimetype": "text/x-python",
   "name": "python",
   "nbconvert_exporter": "python",
   "pygments_lexer": "ipython3",
   "version": "3.10.4"
  }
 },
 "nbformat": 4,
 "nbformat_minor": 5
}
