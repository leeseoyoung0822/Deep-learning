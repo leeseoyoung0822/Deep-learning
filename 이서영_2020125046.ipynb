{
 "cells": [
  {
   "cell_type": "markdown",
   "id": "fb39a3a4",
   "metadata": {},
   "source": [
    "### 스칼라, 벡터, 매트릭스, 텐서를 numpy를 이용하여 만들기"
   ]
  },
  {
   "cell_type": "code",
   "execution_count": 1,
   "id": "5edd194e",
   "metadata": {},
   "outputs": [],
   "source": [
    " #넘파이 import 하기\n",
    "import numpy as np"
   ]
  },
  {
   "cell_type": "code",
   "execution_count": 2,
   "id": "282833e6",
   "metadata": {},
   "outputs": [
    {
     "name": "stdout",
     "output_type": "stream",
     "text": [
      "1.0\n"
     ]
    }
   ],
   "source": [
    "a = np.array(1.0)\n",
    "print(a) #스칼라 만들기"
   ]
  },
  {
   "cell_type": "code",
   "execution_count": 3,
   "id": "1697e7e0",
   "metadata": {},
   "outputs": [
    {
     "name": "stdout",
     "output_type": "stream",
     "text": [
      "[0 1 2 3]\n"
     ]
    }
   ],
   "source": [
    "b = np.arange(4)\n",
    "print(b) # 벡터"
   ]
  },
  {
   "cell_type": "code",
   "execution_count": 4,
   "id": "6a779323",
   "metadata": {},
   "outputs": [
    {
     "name": "stdout",
     "output_type": "stream",
     "text": [
      "[[ 0  1  2  3]\n",
      " [ 4  5  6  7]\n",
      " [ 8  9 10 11]\n",
      " [12 13 14 15]\n",
      " [16 17 18 19]]\n"
     ]
    }
   ],
   "source": [
    "c = np.arange(20).reshape(5,4)\n",
    "print(c) #매트릭스"
   ]
  },
  {
   "cell_type": "code",
   "execution_count": 5,
   "id": "0a32e8c7",
   "metadata": {},
   "outputs": [
    {
     "name": "stdout",
     "output_type": "stream",
     "text": [
      "[[[ 0  1  2  3]\n",
      "  [ 4  5  6  7]\n",
      "  [ 8  9 10 11]]\n",
      "\n",
      " [[12 13 14 15]\n",
      "  [16 17 18 19]\n",
      "  [20 21 22 23]]]\n"
     ]
    }
   ],
   "source": [
    "d = np.arange(24).reshape(2,3,4)\n",
    "print(d) # 텐서"
   ]
  },
  {
   "cell_type": "markdown",
   "id": "e510a2b9",
   "metadata": {},
   "source": [
    "### numpy의 poly1d를 이용하여 미분하기"
   ]
  },
  {
   "cell_type": "code",
   "execution_count": 6,
   "id": "19771564",
   "metadata": {},
   "outputs": [],
   "source": [
    "var = np.poly1d([2,2,1], False, variable = 'x') #np.poly1d를 이용하여 임의의 함수를 정의하기"
   ]
  },
  {
   "cell_type": "code",
   "execution_count": 7,
   "id": "047976b5",
   "metadata": {},
   "outputs": [
    {
     "name": "stdout",
     "output_type": "stream",
     "text": [
      "   2\n",
      "2 x + 2 x + 1\n"
     ]
    }
   ],
   "source": [
    "print(var) #함수의 형태 보기"
   ]
  },
  {
   "cell_type": "code",
   "execution_count": 8,
   "id": "7bd7ec37",
   "metadata": {},
   "outputs": [],
   "source": [
    "derivative = var.deriv() # 미분구하기"
   ]
  },
  {
   "cell_type": "code",
   "execution_count": 9,
   "id": "3488d070",
   "metadata": {},
   "outputs": [
    {
     "name": "stdout",
     "output_type": "stream",
     "text": [
      " \n",
      "4 x + 2\n"
     ]
    }
   ],
   "source": [
    "print(derivative) # 미분 형태 보기"
   ]
  },
  {
   "cell_type": "code",
   "execution_count": 10,
   "id": "685c2fd5",
   "metadata": {},
   "outputs": [
    {
     "name": "stdout",
     "output_type": "stream",
     "text": [
      "-2\n"
     ]
    }
   ],
   "source": [
    "print(derivative(-1)) # 미분된 함수에 x에 -1 값 넣기"
   ]
  },
  {
   "cell_type": "markdown",
   "id": "fa3b1746",
   "metadata": {},
   "source": [
    "### 경사하강법 이해하기"
   ]
  },
  {
   "cell_type": "code",
   "execution_count": 16,
   "id": "dbdbde49",
   "metadata": {},
   "outputs": [
    {
     "name": "stdout",
     "output_type": "stream",
     "text": [
      "   2\n",
      "2 x + 12\n"
     ]
    }
   ],
   "source": [
    "x = np.arange(-10,10,1)\n",
    "f = np.poly1d([2,0,12], False, variable = 'x') # 함수를 2x^2 + 12 로 만들기\n",
    "print(f)"
   ]
  },
  {
   "cell_type": "code",
   "execution_count": 17,
   "id": "22365ccd",
   "metadata": {},
   "outputs": [],
   "source": [
    "x = 3.0        #임의의 값 설정"
   ]
  },
  {
   "cell_type": "code",
   "execution_count": 18,
   "id": "7807013b",
   "metadata": {},
   "outputs": [
    {
     "name": "stdout",
     "output_type": "stream",
     "text": [
      " \n",
      "4 x\n"
     ]
    }
   ],
   "source": [
    "der = f.deriv()\n",
    "print(der) #미분된 함수 구하기"
   ]
  },
  {
   "cell_type": "code",
   "execution_count": 19,
   "id": "bd314edf",
   "metadata": {},
   "outputs": [
    {
     "name": "stdout",
     "output_type": "stream",
     "text": [
      "1.7999999999999998 18.479999999999997 7.199999999999999\n"
     ]
    }
   ],
   "source": [
    "lr = 0.1           # learning rate\n",
    "x = x - lr * der(x)            # 새로운 x 구하기\n",
    "print(x, f(x), der(x))           # x값 프린트"
   ]
  },
  {
   "cell_type": "code",
   "execution_count": 20,
   "id": "93798b7f",
   "metadata": {},
   "outputs": [
    {
     "name": "stdout",
     "output_type": "stream",
     "text": [
      "x: 1.08000 f(x): 14.33280\n",
      "x: 0.64800 f(x): 12.83981\n",
      "x: 0.38880 f(x): 12.30233\n",
      "x: 0.23328 f(x): 12.10884\n",
      "x: 0.13997 f(x): 12.03918\n",
      "x: 0.08398 f(x): 12.01411\n",
      "x: 0.05039 f(x): 12.00508\n",
      "x: 0.03023 f(x): 12.00183\n",
      "x: 0.01814 f(x): 12.00066\n",
      "x: 0.01088 f(x): 12.00024\n",
      "x: 0.00653 f(x): 12.00009\n",
      "x: 0.00392 f(x): 12.00003\n",
      "x: 0.00235 f(x): 12.00001\n",
      "x: 0.00141 f(x): 12.00000\n",
      "x: 0.00085 f(x): 12.00000\n",
      "x: 0.00051 f(x): 12.00000\n",
      "x: 0.00030 f(x): 12.00000\n",
      "x: 0.00018 f(x): 12.00000\n",
      "x: 0.00011 f(x): 12.00000\n",
      "x: 0.00007 f(x): 12.00000\n"
     ]
    }
   ],
   "source": [
    "for i in range(20):# 반복하기 \n",
    "    x = x - lr * der(x)\n",
    "    print(f'x: {x:.5f} f(x): {f(x):.5f}')"
   ]
  },
  {
   "cell_type": "code",
   "execution_count": 21,
   "id": "f6113ee2",
   "metadata": {},
   "outputs": [
    {
     "name": "stdout",
     "output_type": "stream",
     "text": [
      "이서영 2020125046\n"
     ]
    }
   ],
   "source": [
    "print(\"이서영 2020125046\")"
   ]
  },
  {
   "cell_type": "code",
   "execution_count": null,
   "id": "a9e86a80",
   "metadata": {},
   "outputs": [],
   "source": []
  }
 ],
 "metadata": {
  "kernelspec": {
   "display_name": "Python 3 (ipykernel)",
   "language": "python",
   "name": "python3"
  },
  "language_info": {
   "codemirror_mode": {
    "name": "ipython",
    "version": 3
   },
   "file_extension": ".py",
   "mimetype": "text/x-python",
   "name": "python",
   "nbconvert_exporter": "python",
   "pygments_lexer": "ipython3",
   "version": "3.9.12"
  }
 },
 "nbformat": 4,
 "nbformat_minor": 5
}
